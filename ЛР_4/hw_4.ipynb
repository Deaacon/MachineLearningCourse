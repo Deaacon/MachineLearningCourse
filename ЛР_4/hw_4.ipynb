{
 "cells": [
  {
   "attachments": {},
   "cell_type": "markdown",
   "metadata": {},
   "source": [
    "# Домашнее задание №4. Распознавание аудио\n",
    "## Часть 1\n",
    "Написать программу в которой можно загрузить аудио файл и получить его транскрибацию. Поддерживать распознавание файлов аудиозаписи диалога между двумя и более людьми длительностью не менее 3х минут.  \n",
    "Оценка: 1 балл"
   ]
  },
  {
   "cell_type": "code",
   "execution_count": 1,
   "metadata": {},
   "outputs": [],
   "source": [
    "import wave\n",
    "import vosk\n",
    "\n",
    "from IPython.display import display, Audio"
   ]
  },
  {
   "cell_type": "code",
   "execution_count": 4,
   "metadata": {},
   "outputs": [
    {
     "name": "stderr",
     "output_type": "stream",
     "text": [
      "Exception ignored in: <function Wave_write.__del__ at 0x000001910674BA30>\n",
      "Traceback (most recent call last):\n",
      "  File \"C:\\Users\\roman\\AppData\\Local\\Programs\\Python\\Python310\\lib\\wave.py\", line 326, in __del__\n",
      "    self.close()\n",
      "  File \"C:\\Users\\roman\\AppData\\Local\\Programs\\Python\\Python310\\lib\\wave.py\", line 444, in close\n",
      "    self._ensure_header_written(0)\n",
      "  File \"C:\\Users\\roman\\AppData\\Local\\Programs\\Python\\Python310\\lib\\wave.py\", line 462, in _ensure_header_written\n",
      "    raise Error('# channels not specified')\n",
      "wave.Error: # channels not specified\n"
     ]
    },
    {
     "ename": "Error",
     "evalue": "# channels not specified",
     "output_type": "error",
     "traceback": [
      "\u001b[1;31m---------------------------------------------------------------------------\u001b[0m",
      "\u001b[1;31mError\u001b[0m                                     Traceback (most recent call last)",
      "Cell \u001b[1;32mIn[4], line 3\u001b[0m\n\u001b[0;32m      1\u001b[0m wavfile \u001b[39m=\u001b[39m \u001b[39m'\u001b[39m\u001b[39mdata/test.wav\u001b[39m\u001b[39m'\u001b[39m\n\u001b[0;32m      2\u001b[0m wf \u001b[39m=\u001b[39m wave\u001b[39m.\u001b[39mopen(wavfile, \u001b[39m'\u001b[39m\u001b[39mwb\u001b[39m\u001b[39m'\u001b[39m)\n\u001b[1;32m----> 3\u001b[0m wf\u001b[39m.\u001b[39;49mclose()\n\u001b[0;32m      4\u001b[0m display(Audio(wavfile))\n",
      "File \u001b[1;32m~\\AppData\\Local\\Programs\\Python\\Python310\\lib\\wave.py:444\u001b[0m, in \u001b[0;36mWave_write.close\u001b[1;34m(self)\u001b[0m\n\u001b[0;32m    442\u001b[0m \u001b[39mtry\u001b[39;00m:\n\u001b[0;32m    443\u001b[0m     \u001b[39mif\u001b[39;00m \u001b[39mself\u001b[39m\u001b[39m.\u001b[39m_file:\n\u001b[1;32m--> 444\u001b[0m         \u001b[39mself\u001b[39;49m\u001b[39m.\u001b[39;49m_ensure_header_written(\u001b[39m0\u001b[39;49m)\n\u001b[0;32m    445\u001b[0m         \u001b[39mif\u001b[39;00m \u001b[39mself\u001b[39m\u001b[39m.\u001b[39m_datalength \u001b[39m!=\u001b[39m \u001b[39mself\u001b[39m\u001b[39m.\u001b[39m_datawritten:\n\u001b[0;32m    446\u001b[0m             \u001b[39mself\u001b[39m\u001b[39m.\u001b[39m_patchheader()\n",
      "File \u001b[1;32m~\\AppData\\Local\\Programs\\Python\\Python310\\lib\\wave.py:462\u001b[0m, in \u001b[0;36mWave_write._ensure_header_written\u001b[1;34m(self, datasize)\u001b[0m\n\u001b[0;32m    460\u001b[0m \u001b[39mif\u001b[39;00m \u001b[39mnot\u001b[39;00m \u001b[39mself\u001b[39m\u001b[39m.\u001b[39m_headerwritten:\n\u001b[0;32m    461\u001b[0m     \u001b[39mif\u001b[39;00m \u001b[39mnot\u001b[39;00m \u001b[39mself\u001b[39m\u001b[39m.\u001b[39m_nchannels:\n\u001b[1;32m--> 462\u001b[0m         \u001b[39mraise\u001b[39;00m Error(\u001b[39m'\u001b[39m\u001b[39m# channels not specified\u001b[39m\u001b[39m'\u001b[39m)\n\u001b[0;32m    463\u001b[0m     \u001b[39mif\u001b[39;00m \u001b[39mnot\u001b[39;00m \u001b[39mself\u001b[39m\u001b[39m.\u001b[39m_sampwidth:\n\u001b[0;32m    464\u001b[0m         \u001b[39mraise\u001b[39;00m Error(\u001b[39m'\u001b[39m\u001b[39msample width not specified\u001b[39m\u001b[39m'\u001b[39m)\n",
      "\u001b[1;31mError\u001b[0m: # channels not specified"
     ]
    }
   ],
   "source": [
    "wavfile = 'data/test.wav'\n",
    "wf = wave.open(wavfile, 'rb')\n",
    "display(Audio(wavfile))"
   ]
  },
  {
   "cell_type": "code",
   "execution_count": 13,
   "metadata": {},
   "outputs": [],
   "source": [
    "model = vosk.Model('model/vosk-model-small-ru-0.22')\n",
    "spk_model = vosk.SpkModel('model/vosk-model-spk-0.4/')\n",
    "\n",
    "rec = vosk.KaldiRecognizer(model, framerate, spk_model)"
   ]
  },
  {
   "attachments": {},
   "cell_type": "markdown",
   "metadata": {},
   "source": [
    "## Часть 2:\n",
    "Провести диаризацию, расставить пунктуацию  \n",
    "Оценка: 1 балл"
   ]
  },
  {
   "cell_type": "code",
   "execution_count": null,
   "metadata": {},
   "outputs": [],
   "source": []
  },
  {
   "attachments": {},
   "cell_type": "markdown",
   "metadata": {},
   "source": [
    "## Часть 3:\n",
    "Реализовать пользовательский интерфейс: сайт (например, на pythonanywhere.com) или мобильное или настольное приложение.  \n",
    "Оценка: 1 балл"
   ]
  },
  {
   "cell_type": "code",
   "execution_count": null,
   "metadata": {},
   "outputs": [],
   "source": []
  }
 ],
 "metadata": {
  "kernelspec": {
   "display_name": "venv",
   "language": "python",
   "name": "python3"
  },
  "language_info": {
   "codemirror_mode": {
    "name": "ipython",
    "version": 3
   },
   "file_extension": ".py",
   "mimetype": "text/x-python",
   "name": "python",
   "nbconvert_exporter": "python",
   "pygments_lexer": "ipython3",
   "version": "3.10.7"
  },
  "orig_nbformat": 4
 },
 "nbformat": 4,
 "nbformat_minor": 2
}
