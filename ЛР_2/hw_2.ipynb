{
 "cells": [
  {
   "attachments": {},
   "cell_type": "markdown",
   "metadata": {},
   "source": [
    "# ДЗ 2.\n",
    "Используя датасет [seattle-weather.csv](https://drive.google.com/file/d/1vUyPXp2HVa3P4SMTZN9kgwuTu-_dlPWd/view?usp=sharing)\n",
    "Предскажите погодные условия различными методами.\n",
    "\n",
    "Входные данные:\n",
    "* precipitation - величина осадков\n",
    "* tempmax - максимальная дневная температура\n",
    "* tempmin - минимальная дневная температура\n",
    "* wind - скорость ветра\n",
    "\n",
    "Погодные условия:\n",
    "* drizzle - моросящий дождь, изморось\n",
    "* rain - дождь\n",
    "* sun - солнечно\n",
    "* snow - снег\n",
    "* fog - туман\n",
    "\n",
    "Каждый уникальный метод оценивается 1 баллом. \n",
    "\n",
    "Максимальное количество баллов за ДЗ: 3.\n",
    "\n",
    "Студент, получивший максимальную точность прогноза в группе автоматоматически получает высший балл на экзамене. Для теста использовать последние 400 строк датасета.\n",
    "\n",
    "Отправка ноутбуков с результатами обязательна: https://forms.gle/xruukTRpumJswSpQ8"
   ]
  },
  {
   "attachments": {},
   "cell_type": "markdown",
   "metadata": {},
   "source": [
    "## Подготовка данных"
   ]
  },
  {
   "cell_type": "code",
   "execution_count": 1,
   "metadata": {},
   "outputs": [],
   "source": [
    "import pandas as pd\n",
    "import numpy as np\n",
    "\n",
    "from sklearn.model_selection import train_test_split\n",
    "from sklearn.preprocessing import StandardScaler"
   ]
  },
  {
   "cell_type": "code",
   "execution_count": 2,
   "metadata": {},
   "outputs": [
    {
     "data": {
      "text/html": [
       "<div>\n",
       "<style scoped>\n",
       "    .dataframe tbody tr th:only-of-type {\n",
       "        vertical-align: middle;\n",
       "    }\n",
       "\n",
       "    .dataframe tbody tr th {\n",
       "        vertical-align: top;\n",
       "    }\n",
       "\n",
       "    .dataframe thead th {\n",
       "        text-align: right;\n",
       "    }\n",
       "</style>\n",
       "<table border=\"1\" class=\"dataframe\">\n",
       "  <thead>\n",
       "    <tr style=\"text-align: right;\">\n",
       "      <th></th>\n",
       "      <th>date</th>\n",
       "      <th>precipitation</th>\n",
       "      <th>temp_max</th>\n",
       "      <th>temp_min</th>\n",
       "      <th>wind</th>\n",
       "      <th>weather</th>\n",
       "    </tr>\n",
       "  </thead>\n",
       "  <tbody>\n",
       "    <tr>\n",
       "      <th>0</th>\n",
       "      <td>2012-01-01</td>\n",
       "      <td>0.0</td>\n",
       "      <td>12.8</td>\n",
       "      <td>5.0</td>\n",
       "      <td>4.7</td>\n",
       "      <td>drizzle</td>\n",
       "    </tr>\n",
       "    <tr>\n",
       "      <th>1</th>\n",
       "      <td>2012-01-02</td>\n",
       "      <td>10.9</td>\n",
       "      <td>10.6</td>\n",
       "      <td>2.8</td>\n",
       "      <td>4.5</td>\n",
       "      <td>rain</td>\n",
       "    </tr>\n",
       "    <tr>\n",
       "      <th>2</th>\n",
       "      <td>2012-01-03</td>\n",
       "      <td>0.8</td>\n",
       "      <td>11.7</td>\n",
       "      <td>7.2</td>\n",
       "      <td>2.3</td>\n",
       "      <td>rain</td>\n",
       "    </tr>\n",
       "    <tr>\n",
       "      <th>3</th>\n",
       "      <td>2012-01-04</td>\n",
       "      <td>20.3</td>\n",
       "      <td>12.2</td>\n",
       "      <td>5.6</td>\n",
       "      <td>4.7</td>\n",
       "      <td>rain</td>\n",
       "    </tr>\n",
       "    <tr>\n",
       "      <th>4</th>\n",
       "      <td>2012-01-05</td>\n",
       "      <td>1.3</td>\n",
       "      <td>8.9</td>\n",
       "      <td>2.8</td>\n",
       "      <td>6.1</td>\n",
       "      <td>rain</td>\n",
       "    </tr>\n",
       "  </tbody>\n",
       "</table>\n",
       "</div>"
      ],
      "text/plain": [
       "         date  precipitation  temp_max  temp_min  wind  weather\n",
       "0  2012-01-01            0.0      12.8       5.0   4.7  drizzle\n",
       "1  2012-01-02           10.9      10.6       2.8   4.5     rain\n",
       "2  2012-01-03            0.8      11.7       7.2   2.3     rain\n",
       "3  2012-01-04           20.3      12.2       5.6   4.7     rain\n",
       "4  2012-01-05            1.3       8.9       2.8   6.1     rain"
      ]
     },
     "execution_count": 2,
     "metadata": {},
     "output_type": "execute_result"
    }
   ],
   "source": [
    "data = pd.read_csv('seattle-weather.csv')\n",
    "data.head()"
   ]
  },
  {
   "cell_type": "code",
   "execution_count": 3,
   "metadata": {},
   "outputs": [
    {
     "data": {
      "text/html": [
       "<div>\n",
       "<style scoped>\n",
       "    .dataframe tbody tr th:only-of-type {\n",
       "        vertical-align: middle;\n",
       "    }\n",
       "\n",
       "    .dataframe tbody tr th {\n",
       "        vertical-align: top;\n",
       "    }\n",
       "\n",
       "    .dataframe thead th {\n",
       "        text-align: right;\n",
       "    }\n",
       "</style>\n",
       "<table border=\"1\" class=\"dataframe\">\n",
       "  <thead>\n",
       "    <tr style=\"text-align: right;\">\n",
       "      <th></th>\n",
       "      <th>precipitation</th>\n",
       "      <th>temp_max</th>\n",
       "      <th>temp_min</th>\n",
       "      <th>wind</th>\n",
       "    </tr>\n",
       "  </thead>\n",
       "  <tbody>\n",
       "    <tr>\n",
       "      <th>0</th>\n",
       "      <td>-0.453650</td>\n",
       "      <td>-0.495299</td>\n",
       "      <td>-0.644212</td>\n",
       "      <td>1.014980</td>\n",
       "    </tr>\n",
       "    <tr>\n",
       "      <th>1</th>\n",
       "      <td>1.178598</td>\n",
       "      <td>-0.794731</td>\n",
       "      <td>-1.082347</td>\n",
       "      <td>0.875833</td>\n",
       "    </tr>\n",
       "    <tr>\n",
       "      <th>2</th>\n",
       "      <td>-0.333852</td>\n",
       "      <td>-0.645015</td>\n",
       "      <td>-0.206077</td>\n",
       "      <td>-0.654780</td>\n",
       "    </tr>\n",
       "    <tr>\n",
       "      <th>3</th>\n",
       "      <td>2.586224</td>\n",
       "      <td>-0.576962</td>\n",
       "      <td>-0.524720</td>\n",
       "      <td>1.014980</td>\n",
       "    </tr>\n",
       "    <tr>\n",
       "      <th>4</th>\n",
       "      <td>-0.258978</td>\n",
       "      <td>-1.026111</td>\n",
       "      <td>-1.082347</td>\n",
       "      <td>1.989006</td>\n",
       "    </tr>\n",
       "  </tbody>\n",
       "</table>\n",
       "</div>"
      ],
      "text/plain": [
       "   precipitation  temp_max  temp_min      wind\n",
       "0      -0.453650 -0.495299 -0.644212  1.014980\n",
       "1       1.178598 -0.794731 -1.082347  0.875833\n",
       "2      -0.333852 -0.645015 -0.206077 -0.654780\n",
       "3       2.586224 -0.576962 -0.524720  1.014980\n",
       "4      -0.258978 -1.026111 -1.082347  1.989006"
      ]
     },
     "execution_count": 3,
     "metadata": {},
     "output_type": "execute_result"
    }
   ],
   "source": [
    "X = data.drop(columns=['date', 'weather'])\n",
    "X[:] = StandardScaler().fit(X).transform(X)\n",
    "y = data['weather']\n",
    "X_train, X_test, y_train, y_test = train_test_split(X, y, test_size=400, shuffle=False)\n",
    "X_train.head()"
   ]
  },
  {
   "cell_type": "code",
   "execution_count": 4,
   "metadata": {},
   "outputs": [
    {
     "data": {
      "text/plain": [
       "0    drizzle\n",
       "1       rain\n",
       "2       rain\n",
       "3       rain\n",
       "4       rain\n",
       "Name: weather, dtype: object"
      ]
     },
     "execution_count": 4,
     "metadata": {},
     "output_type": "execute_result"
    }
   ],
   "source": [
    "y_train.head()"
   ]
  },
  {
   "attachments": {},
   "cell_type": "markdown",
   "metadata": {},
   "source": [
    "## Метод ближайших соседей"
   ]
  },
  {
   "cell_type": "code",
   "execution_count": 5,
   "metadata": {},
   "outputs": [],
   "source": [
    "class KNNClassifier():\n",
    "    def __find_nearest(self, x: np.array):\n",
    "        distances = np.sum(np.power((self.X - x), 2), axis=1)\n",
    "        weather_type = self.y[distances.argmin()]\n",
    "        for i in self.weather:\n",
    "            if self.weather[i] == weather_type:\n",
    "                weather_type = i\n",
    "                break\n",
    "        return weather_type\n",
    "\n",
    "    def fit(self, X: pd.DataFrame, y: pd.DataFrame) -> None:\n",
    "        weather_types = y.unique()\n",
    "        self.weather = {weather_types[i]: i for i in range(len(weather_types))}\n",
    "        self.y = np.array([self.weather[i] for i in y])\n",
    "        self.X = np.asarray(X)\n",
    "\n",
    "    def predict(self, X: pd.DataFrame) -> np.ndarray:\n",
    "        X = np.asarray(X)\n",
    "        y = []\n",
    "        for i in X:\n",
    "            y.append(self.__find_nearest(i))\n",
    "        return np.array(y)"
   ]
  },
  {
   "cell_type": "code",
   "execution_count": 6,
   "metadata": {},
   "outputs": [
    {
     "name": "stdout",
     "output_type": "stream",
     "text": [
      "KNNClassifiers accuracy: 0.67\n"
     ]
    }
   ],
   "source": [
    "KNNmodel = KNNClassifier()\n",
    "KNNmodel.fit(X_train, y_train)\n",
    "print('KNNClassifiers accuracy:', np.mean(KNNmodel.predict(X_test) == y_test.values))"
   ]
  },
  {
   "attachments": {},
   "cell_type": "markdown",
   "metadata": {},
   "source": [
    "## Градиентный спуск"
   ]
  },
  {
   "cell_type": "code",
   "execution_count": 7,
   "metadata": {},
   "outputs": [],
   "source": [
    "class GradientClassifier():\n",
    "    def __init__(self, lr=0.001, steps=20000) -> None:\n",
    "        self.lr = lr\n",
    "        self.steps = steps\n",
    "        self.w = {}\n",
    "\n",
    "    def __calc_mse_grad(self, X: np.ndarray, y: np.ndarray, w: np.ndarray) -> np.ndarray:\n",
    "        return 2 / X.shape[0] * np.dot(np.transpose(X), np.subtract(np.dot(X, w), y))\n",
    "\n",
    "    def __gradient_descent(self, X: np.ndarray, y: np.ndarray) -> np.ndarray:\n",
    "        w_init = np.random.uniform(-10, 10, X.shape[1])\n",
    "        for i in range(self.steps):\n",
    "            w_init = w_init - self.lr * self.__calc_mse_grad(X, y, w_init)\n",
    "        return w_init\n",
    "\n",
    "    def fit(self, X: pd.DataFrame, y: pd.DataFrame) -> None:\n",
    "        X = np.asarray(X)\n",
    "        X = np.hstack([X, np.ones([X.shape[0], 1])])\n",
    "        y = pd.get_dummies(y)\n",
    "        for key in y:\n",
    "            y_emp = np.asarray(y[key])\n",
    "            self.w[key] = self.__gradient_descent(X, y_emp)\n",
    "    \n",
    "    def predict(self, X: pd.DataFrame) -> np.ndarray:\n",
    "        X = np.asarray(X)\n",
    "        X = np.hstack([X, np.ones([X.shape[0], 1])])\n",
    "        zero_data = np.zeros(shape=(len(X), len(self.w.keys())))\n",
    "        y = pd.DataFrame(zero_data, columns=self.w.keys())\n",
    "        for key in y:\n",
    "            y[key] = np.dot(X, self.w[key])\n",
    "        return pd.get_dummies(y).idxmax(axis=1)"
   ]
  },
  {
   "cell_type": "code",
   "execution_count": 8,
   "metadata": {},
   "outputs": [
    {
     "name": "stdout",
     "output_type": "stream",
     "text": [
      "GradientClassifiers accuracy: 0.705\n"
     ]
    }
   ],
   "source": [
    "Gradientmodel = GradientClassifier(0.01, 5_000)\n",
    "Gradientmodel.fit(X_train, y_train)\n",
    "print('GradientClassifiers accuracy:', np.mean(Gradientmodel.predict(X_test).values == y_test.values))"
   ]
  },
  {
   "attachments": {},
   "cell_type": "markdown",
   "metadata": {},
   "source": [
    "## Решающее дерево\n",
    "Не написанное, а подгружаемое из библиотеки и имеющее лучший результат. "
   ]
  },
  {
   "cell_type": "code",
   "execution_count": 9,
   "metadata": {},
   "outputs": [],
   "source": [
    "from sklearn.tree import DecisionTreeClassifier"
   ]
  },
  {
   "cell_type": "code",
   "execution_count": 10,
   "metadata": {},
   "outputs": [
    {
     "name": "stdout",
     "output_type": "stream",
     "text": [
      "DecisionTreeClassifiers accuracy: 0.8375\n"
     ]
    }
   ],
   "source": [
    "tree_clf = DecisionTreeClassifier(criterion=\"entropy\", max_depth=3)\n",
    "tree_clf.fit(X_train, y_train)\n",
    "print('DecisionTreeClassifiers accuracy:', np.mean(tree_clf.predict(X_test) == y_test.values))"
   ]
  }
 ],
 "metadata": {
  "kernelspec": {
   "display_name": "venv",
   "language": "python",
   "name": "python3"
  },
  "language_info": {
   "codemirror_mode": {
    "name": "ipython",
    "version": 3
   },
   "file_extension": ".py",
   "mimetype": "text/x-python",
   "name": "python",
   "nbconvert_exporter": "python",
   "pygments_lexer": "ipython3",
   "version": "3.10.7"
  },
  "orig_nbformat": 4,
  "vscode": {
   "interpreter": {
    "hash": "3ed32a56ba74fe8acea63c2c49b0d3aae89eef6122d4bc3469c1fe9d45fa2a08"
   }
  }
 },
 "nbformat": 4,
 "nbformat_minor": 2
}
