{
 "cells": [
  {
   "attachments": {},
   "cell_type": "markdown",
   "metadata": {},
   "source": [
    "# ДЗ 2.\n",
    "Используя датасет [seattle-weather.csv](https://drive.google.com/file/d/1vUyPXp2HVa3P4SMTZN9kgwuTu-_dlPWd/view?usp=sharing)\n",
    "Предскажите погодные условия различными методами.\n",
    "\n",
    "Входные данные:\n",
    "* precipitation - величина осадков\n",
    "* tempmax - максимальная дневная температура\n",
    "* tempmin - минимальная дневная температура\n",
    "* wind - скорость ветра\n",
    "\n",
    "Погодные условия:\n",
    "* drizzle - моросящий дождь, изморось\n",
    "* rain - дождь\n",
    "* sun - солнечно\n",
    "* snow - снег\n",
    "* fog - туман\n",
    "\n",
    "Каждый уникальный метод оценивается 1 баллом. \n",
    "\n",
    "Максимальное количество баллов за ДЗ: 3.\n",
    "\n",
    "Студент, получивший максимальную точность прогноза в группе автоматоматически получает высший балл на экзамене. Для теста использовать последние 400 строк датасета.\n",
    "\n",
    "Отправка ноутбуков с результатами обязательна: https://forms.gle/xruukTRpumJswSpQ8"
   ]
  },
  {
   "attachments": {},
   "cell_type": "markdown",
   "metadata": {},
   "source": [
    "## Подготовка данных"
   ]
  },
  {
   "cell_type": "code",
   "execution_count": 95,
   "metadata": {},
   "outputs": [],
   "source": [
    "import random\n",
    "\n",
    "import pandas as pd\n",
    "import numpy as np\n",
    "\n",
    "from sklearn.model_selection import train_test_split\n",
    "from sklearn.preprocessing import StandardScaler"
   ]
  },
  {
   "cell_type": "code",
   "execution_count": 96,
   "metadata": {},
   "outputs": [],
   "source": [
    "random.seed(0)\n",
    "np.random.seed(0)"
   ]
  },
  {
   "cell_type": "code",
   "execution_count": 97,
   "metadata": {},
   "outputs": [
    {
     "data": {
      "text/html": [
       "<div>\n",
       "<style scoped>\n",
       "    .dataframe tbody tr th:only-of-type {\n",
       "        vertical-align: middle;\n",
       "    }\n",
       "\n",
       "    .dataframe tbody tr th {\n",
       "        vertical-align: top;\n",
       "    }\n",
       "\n",
       "    .dataframe thead th {\n",
       "        text-align: right;\n",
       "    }\n",
       "</style>\n",
       "<table border=\"1\" class=\"dataframe\">\n",
       "  <thead>\n",
       "    <tr style=\"text-align: right;\">\n",
       "      <th></th>\n",
       "      <th>date</th>\n",
       "      <th>precipitation</th>\n",
       "      <th>temp_max</th>\n",
       "      <th>temp_min</th>\n",
       "      <th>wind</th>\n",
       "      <th>weather</th>\n",
       "    </tr>\n",
       "  </thead>\n",
       "  <tbody>\n",
       "    <tr>\n",
       "      <th>0</th>\n",
       "      <td>2012-01-01</td>\n",
       "      <td>0.0</td>\n",
       "      <td>12.8</td>\n",
       "      <td>5.0</td>\n",
       "      <td>4.7</td>\n",
       "      <td>drizzle</td>\n",
       "    </tr>\n",
       "    <tr>\n",
       "      <th>1</th>\n",
       "      <td>2012-01-02</td>\n",
       "      <td>10.9</td>\n",
       "      <td>10.6</td>\n",
       "      <td>2.8</td>\n",
       "      <td>4.5</td>\n",
       "      <td>rain</td>\n",
       "    </tr>\n",
       "    <tr>\n",
       "      <th>2</th>\n",
       "      <td>2012-01-03</td>\n",
       "      <td>0.8</td>\n",
       "      <td>11.7</td>\n",
       "      <td>7.2</td>\n",
       "      <td>2.3</td>\n",
       "      <td>rain</td>\n",
       "    </tr>\n",
       "    <tr>\n",
       "      <th>3</th>\n",
       "      <td>2012-01-04</td>\n",
       "      <td>20.3</td>\n",
       "      <td>12.2</td>\n",
       "      <td>5.6</td>\n",
       "      <td>4.7</td>\n",
       "      <td>rain</td>\n",
       "    </tr>\n",
       "    <tr>\n",
       "      <th>4</th>\n",
       "      <td>2012-01-05</td>\n",
       "      <td>1.3</td>\n",
       "      <td>8.9</td>\n",
       "      <td>2.8</td>\n",
       "      <td>6.1</td>\n",
       "      <td>rain</td>\n",
       "    </tr>\n",
       "    <tr>\n",
       "      <th>...</th>\n",
       "      <td>...</td>\n",
       "      <td>...</td>\n",
       "      <td>...</td>\n",
       "      <td>...</td>\n",
       "      <td>...</td>\n",
       "      <td>...</td>\n",
       "    </tr>\n",
       "    <tr>\n",
       "      <th>1456</th>\n",
       "      <td>2015-12-27</td>\n",
       "      <td>8.6</td>\n",
       "      <td>4.4</td>\n",
       "      <td>1.7</td>\n",
       "      <td>2.9</td>\n",
       "      <td>rain</td>\n",
       "    </tr>\n",
       "    <tr>\n",
       "      <th>1457</th>\n",
       "      <td>2015-12-28</td>\n",
       "      <td>1.5</td>\n",
       "      <td>5.0</td>\n",
       "      <td>1.7</td>\n",
       "      <td>1.3</td>\n",
       "      <td>rain</td>\n",
       "    </tr>\n",
       "    <tr>\n",
       "      <th>1458</th>\n",
       "      <td>2015-12-29</td>\n",
       "      <td>0.0</td>\n",
       "      <td>7.2</td>\n",
       "      <td>0.6</td>\n",
       "      <td>2.6</td>\n",
       "      <td>fog</td>\n",
       "    </tr>\n",
       "    <tr>\n",
       "      <th>1459</th>\n",
       "      <td>2015-12-30</td>\n",
       "      <td>0.0</td>\n",
       "      <td>5.6</td>\n",
       "      <td>-1.0</td>\n",
       "      <td>3.4</td>\n",
       "      <td>sun</td>\n",
       "    </tr>\n",
       "    <tr>\n",
       "      <th>1460</th>\n",
       "      <td>2015-12-31</td>\n",
       "      <td>0.0</td>\n",
       "      <td>5.6</td>\n",
       "      <td>-2.1</td>\n",
       "      <td>3.5</td>\n",
       "      <td>sun</td>\n",
       "    </tr>\n",
       "  </tbody>\n",
       "</table>\n",
       "<p>1461 rows × 6 columns</p>\n",
       "</div>"
      ],
      "text/plain": [
       "            date  precipitation  temp_max  temp_min  wind  weather\n",
       "0     2012-01-01            0.0      12.8       5.0   4.7  drizzle\n",
       "1     2012-01-02           10.9      10.6       2.8   4.5     rain\n",
       "2     2012-01-03            0.8      11.7       7.2   2.3     rain\n",
       "3     2012-01-04           20.3      12.2       5.6   4.7     rain\n",
       "4     2012-01-05            1.3       8.9       2.8   6.1     rain\n",
       "...          ...            ...       ...       ...   ...      ...\n",
       "1456  2015-12-27            8.6       4.4       1.7   2.9     rain\n",
       "1457  2015-12-28            1.5       5.0       1.7   1.3     rain\n",
       "1458  2015-12-29            0.0       7.2       0.6   2.6      fog\n",
       "1459  2015-12-30            0.0       5.6      -1.0   3.4      sun\n",
       "1460  2015-12-31            0.0       5.6      -2.1   3.5      sun\n",
       "\n",
       "[1461 rows x 6 columns]"
      ]
     },
     "execution_count": 97,
     "metadata": {},
     "output_type": "execute_result"
    }
   ],
   "source": [
    "data = pd.read_csv('seattle-weather.csv')\n",
    "data"
   ]
  },
  {
   "cell_type": "code",
   "execution_count": 98,
   "metadata": {},
   "outputs": [
    {
     "data": {
      "text/html": [
       "<div>\n",
       "<style scoped>\n",
       "    .dataframe tbody tr th:only-of-type {\n",
       "        vertical-align: middle;\n",
       "    }\n",
       "\n",
       "    .dataframe tbody tr th {\n",
       "        vertical-align: top;\n",
       "    }\n",
       "\n",
       "    .dataframe thead th {\n",
       "        text-align: right;\n",
       "    }\n",
       "</style>\n",
       "<table border=\"1\" class=\"dataframe\">\n",
       "  <thead>\n",
       "    <tr style=\"text-align: right;\">\n",
       "      <th></th>\n",
       "      <th>precipitation</th>\n",
       "      <th>temp_max</th>\n",
       "      <th>temp_min</th>\n",
       "      <th>wind</th>\n",
       "    </tr>\n",
       "  </thead>\n",
       "  <tbody>\n",
       "    <tr>\n",
       "      <th>0</th>\n",
       "      <td>-0.453650</td>\n",
       "      <td>-0.495299</td>\n",
       "      <td>-0.644212</td>\n",
       "      <td>1.014980</td>\n",
       "    </tr>\n",
       "    <tr>\n",
       "      <th>1</th>\n",
       "      <td>1.178598</td>\n",
       "      <td>-0.794731</td>\n",
       "      <td>-1.082347</td>\n",
       "      <td>0.875833</td>\n",
       "    </tr>\n",
       "    <tr>\n",
       "      <th>2</th>\n",
       "      <td>-0.333852</td>\n",
       "      <td>-0.645015</td>\n",
       "      <td>-0.206077</td>\n",
       "      <td>-0.654780</td>\n",
       "    </tr>\n",
       "    <tr>\n",
       "      <th>3</th>\n",
       "      <td>2.586224</td>\n",
       "      <td>-0.576962</td>\n",
       "      <td>-0.524720</td>\n",
       "      <td>1.014980</td>\n",
       "    </tr>\n",
       "    <tr>\n",
       "      <th>4</th>\n",
       "      <td>-0.258978</td>\n",
       "      <td>-1.026111</td>\n",
       "      <td>-1.082347</td>\n",
       "      <td>1.989006</td>\n",
       "    </tr>\n",
       "    <tr>\n",
       "      <th>...</th>\n",
       "      <td>...</td>\n",
       "      <td>...</td>\n",
       "      <td>...</td>\n",
       "      <td>...</td>\n",
       "    </tr>\n",
       "    <tr>\n",
       "      <th>1056</th>\n",
       "      <td>-0.378776</td>\n",
       "      <td>-0.958058</td>\n",
       "      <td>-0.305653</td>\n",
       "      <td>1.014980</td>\n",
       "    </tr>\n",
       "    <tr>\n",
       "      <th>1057</th>\n",
       "      <td>1.328345</td>\n",
       "      <td>-0.495299</td>\n",
       "      <td>-0.524720</td>\n",
       "      <td>1.293273</td>\n",
       "    </tr>\n",
       "    <tr>\n",
       "      <th>1058</th>\n",
       "      <td>-0.258978</td>\n",
       "      <td>-0.645015</td>\n",
       "      <td>-0.763703</td>\n",
       "      <td>0.388820</td>\n",
       "    </tr>\n",
       "    <tr>\n",
       "      <th>1059</th>\n",
       "      <td>2.286729</td>\n",
       "      <td>-0.345583</td>\n",
       "      <td>0.232058</td>\n",
       "      <td>0.875833</td>\n",
       "    </tr>\n",
       "    <tr>\n",
       "      <th>1060</th>\n",
       "      <td>-0.408726</td>\n",
       "      <td>-0.195867</td>\n",
       "      <td>0.789684</td>\n",
       "      <td>0.458393</td>\n",
       "    </tr>\n",
       "  </tbody>\n",
       "</table>\n",
       "<p>1061 rows × 4 columns</p>\n",
       "</div>"
      ],
      "text/plain": [
       "      precipitation  temp_max  temp_min      wind\n",
       "0         -0.453650 -0.495299 -0.644212  1.014980\n",
       "1          1.178598 -0.794731 -1.082347  0.875833\n",
       "2         -0.333852 -0.645015 -0.206077 -0.654780\n",
       "3          2.586224 -0.576962 -0.524720  1.014980\n",
       "4         -0.258978 -1.026111 -1.082347  1.989006\n",
       "...             ...       ...       ...       ...\n",
       "1056      -0.378776 -0.958058 -0.305653  1.014980\n",
       "1057       1.328345 -0.495299 -0.524720  1.293273\n",
       "1058      -0.258978 -0.645015 -0.763703  0.388820\n",
       "1059       2.286729 -0.345583  0.232058  0.875833\n",
       "1060      -0.408726 -0.195867  0.789684  0.458393\n",
       "\n",
       "[1061 rows x 4 columns]"
      ]
     },
     "execution_count": 98,
     "metadata": {},
     "output_type": "execute_result"
    }
   ],
   "source": [
    "X = data.drop(columns=['date', 'weather'])\n",
    "X[:] = StandardScaler().fit(X).transform(X)\n",
    "y = data['weather']\n",
    "X_train, X_test, y_train, y_test = train_test_split(X, y, test_size=400, shuffle=False)\n",
    "X_train"
   ]
  },
  {
   "cell_type": "code",
   "execution_count": 99,
   "metadata": {},
   "outputs": [
    {
     "data": {
      "text/plain": [
       "0       drizzle\n",
       "1          rain\n",
       "2          rain\n",
       "3          rain\n",
       "4          rain\n",
       "         ...   \n",
       "1056       rain\n",
       "1057       rain\n",
       "1058       rain\n",
       "1059       rain\n",
       "1060       rain\n",
       "Name: weather, Length: 1061, dtype: object"
      ]
     },
     "execution_count": 99,
     "metadata": {},
     "output_type": "execute_result"
    }
   ],
   "source": [
    "y_train"
   ]
  },
  {
   "cell_type": "code",
   "execution_count": 100,
   "metadata": {},
   "outputs": [
    {
     "data": {
      "text/plain": [
       "array(['drizzle', 'rain', 'sun', 'snow', 'fog'], dtype=object)"
      ]
     },
     "execution_count": 100,
     "metadata": {},
     "output_type": "execute_result"
    }
   ],
   "source": [
    "y.unique()"
   ]
  },
  {
   "attachments": {},
   "cell_type": "markdown",
   "metadata": {},
   "source": [
    "## Метод ближайших соседей"
   ]
  },
  {
   "cell_type": "code",
   "execution_count": 101,
   "metadata": {},
   "outputs": [],
   "source": [
    "class KNNClassifier():\n",
    "    def __find_nearest(self, x: np.array):\n",
    "        distances = np.sum(np.power((self.X - x), 2), axis=1)\n",
    "        weather_type = self.y[distances.argmin()]\n",
    "        for i in self.weather:\n",
    "            if self.weather[i] == weather_type:\n",
    "                weather_type = i\n",
    "                break\n",
    "        return weather_type\n",
    "\n",
    "    def fit(self, X: pd.DataFrame, y: pd.DataFrame) -> None:\n",
    "        weather_types = y.unique()\n",
    "        self.weather = {weather_types[i]: i for i in range(len(weather_types))}\n",
    "        self.y = np.array([self.weather[i] for i in y])\n",
    "        self.X = np.asarray(X)\n",
    "\n",
    "    def predict(self, X: pd.DataFrame) -> np.ndarray:\n",
    "        X = np.asarray(X)\n",
    "        y = []\n",
    "        for i in X:\n",
    "            y.append(self.__find_nearest(i))\n",
    "        return np.array(y)"
   ]
  },
  {
   "cell_type": "code",
   "execution_count": 102,
   "metadata": {},
   "outputs": [
    {
     "name": "stdout",
     "output_type": "stream",
     "text": [
      "KNNClassifiers accuracy: 0.67\n"
     ]
    }
   ],
   "source": [
    "KNNmodel = KNNClassifier()\n",
    "KNNmodel.fit(X_train, y_train)\n",
    "print('KNNClassifiers accuracy:', np.mean(KNNmodel.predict(X_test) == y_test.values))"
   ]
  },
  {
   "attachments": {},
   "cell_type": "markdown",
   "metadata": {},
   "source": [
    "## Градиентный спуск"
   ]
  },
  {
   "cell_type": "code",
   "execution_count": 103,
   "metadata": {},
   "outputs": [],
   "source": [
    "class GradientClassifier():\n",
    "    def __init__(self, lr=0.001, steps=20000) -> None:\n",
    "        self.lr = lr\n",
    "        self.steps = steps\n",
    "        self.w = {}\n",
    "\n",
    "    def __calc_mse_grad(self, X: np.ndarray, y: np.ndarray, w: np.ndarray) -> np.ndarray:\n",
    "        return 2 / X.shape[0] * np.dot(np.transpose(X), np.subtract(np.dot(X, w), y))\n",
    "\n",
    "    def __gradient_descent(self, X: np.ndarray, y: np.ndarray) -> np.ndarray:\n",
    "        w_init = np.random.uniform(-10, 10, X.shape[1])\n",
    "        for i in range(self.steps):\n",
    "            w_init = w_init - self.lr * self.__calc_mse_grad(X, y, w_init)\n",
    "        return w_init\n",
    "\n",
    "    def fit(self, X: pd.DataFrame, y: pd.DataFrame) -> None:\n",
    "        X = np.asarray(X)\n",
    "        X = np.hstack([X, np.ones([X.shape[0], 1])])\n",
    "        y = pd.get_dummies(y)\n",
    "        for key in y:\n",
    "            y_emp = np.asarray(y[key])\n",
    "            self.w[key] = self.__gradient_descent(X, y_emp)\n",
    "    \n",
    "    def predict(self, X: pd.DataFrame) -> np.ndarray:\n",
    "        X = np.asarray(X)\n",
    "        X = np.hstack([X, np.ones([X.shape[0], 1])])\n",
    "        zero_data = np.zeros(shape=(len(X), len(self.w.keys())))\n",
    "        y = pd.DataFrame(zero_data, columns=self.w.keys())\n",
    "        for key in y:\n",
    "            y[key] = np.dot(X, self.w[key])\n",
    "        return pd.get_dummies(y).idxmax(axis=1)"
   ]
  },
  {
   "cell_type": "code",
   "execution_count": 104,
   "metadata": {},
   "outputs": [
    {
     "name": "stdout",
     "output_type": "stream",
     "text": [
      "GradientClassifiers accuracy: 0.705\n"
     ]
    }
   ],
   "source": [
    "Gradientmodel = GradientClassifier(0.01, 5_000)\n",
    "Gradientmodel.fit(X_train, y_train)\n",
    "print('GradientClassifiers accuracy:', np.mean(Gradientmodel.predict(X_test).values == y_test.values))"
   ]
  },
  {
   "attachments": {},
   "cell_type": "markdown",
   "metadata": {},
   "source": [
    "## Решающее дерево\n",
    "Не написанное, а подгружаемое из библиотеки и имеющее лучший результат. "
   ]
  },
  {
   "cell_type": "code",
   "execution_count": 105,
   "metadata": {},
   "outputs": [],
   "source": [
    "from sklearn.tree import DecisionTreeClassifier"
   ]
  },
  {
   "cell_type": "code",
   "execution_count": 106,
   "metadata": {},
   "outputs": [
    {
     "name": "stdout",
     "output_type": "stream",
     "text": [
      "DecisionTreeClassifiers accuracy: 0.8375\n"
     ]
    }
   ],
   "source": [
    "tree_clf = DecisionTreeClassifier(criterion=\"entropy\", max_depth=3)\n",
    "tree_clf.fit(X_train, y_train)\n",
    "print('DecisionTreeClassifiers accuracy:', np.mean(tree_clf.predict(X_test) == y_test.values))"
   ]
  },
  {
   "attachments": {},
   "cell_type": "markdown",
   "metadata": {},
   "source": [
    "# Нейронная сеть"
   ]
  },
  {
   "cell_type": "code",
   "execution_count": 107,
   "metadata": {},
   "outputs": [],
   "source": [
    "import torch\n",
    "from sklearn import preprocessing"
   ]
  },
  {
   "cell_type": "code",
   "execution_count": 108,
   "metadata": {},
   "outputs": [],
   "source": [
    "def set_seed(seed = 123):\n",
    "    torch.manual_seed(seed)\n",
    "    torch.cuda.manual_seed(seed)\n",
    "    torch.cuda.manual_seed_all(seed)\n",
    "    np.random.seed(seed)\n",
    "    random.seed(seed)\n",
    "    torch.backends.cudnn.benchmark = False\n",
    "    torch.backends.cudnn.deterministic = True"
   ]
  },
  {
   "cell_type": "code",
   "execution_count": 109,
   "metadata": {},
   "outputs": [],
   "source": [
    "class simple_model(torch.nn.Module):\n",
    "    def __init__(self, in_features = 4, out_features = 5):\n",
    "        super().__init__()\n",
    "        self.net = torch.nn.Sequential(\n",
    "            torch.nn.Linear(in_features, 16),\n",
    "            torch.nn.ReLU(),\n",
    "            torch.nn.Linear(16, 16),\n",
    "            torch.nn.ReLU(),\n",
    "            torch.nn.ReLU(),\n",
    "            torch.nn.Linear(16, out_features)\n",
    "        )\n",
    "\n",
    "\n",
    "    def forward(self, input):\n",
    "        output = self.net(input)\n",
    "        return output"
   ]
  },
  {
   "cell_type": "code",
   "execution_count": 110,
   "metadata": {},
   "outputs": [
    {
     "name": "stdout",
     "output_type": "stream",
     "text": [
      "0.8375\n"
     ]
    }
   ],
   "source": [
    "set_seed(1)\n",
    "model = simple_model()\n",
    "loss = torch.nn.CrossEntropyLoss()\n",
    "label_encoder = preprocessing.LabelEncoder().fit(y_train)\n",
    "optimizer = torch.optim.Adamax(model.parameters(), lr=0.01)\n",
    "for epoch in range(1000):\n",
    "    X_train_inp = torch.tensor(X_train.values, dtype=torch.float32)\n",
    "    y_train_inp = torch.tensor(pd.get_dummies(label_encoder.transform(y_train)).values, dtype=torch.float32)\n",
    "    y_pred = model(X_train_inp)\n",
    "    optimizer.zero_grad()\n",
    "    loss_value = loss(y_pred, y_train_inp)\n",
    "    loss_value.backward()\n",
    "    optimizer.step()\n",
    "with torch.no_grad():\n",
    "    X_test_inp = torch.tensor(X_test.values, dtype=torch.float32)\n",
    "    lab, y_preds = torch.max(model(X_test_inp), 1)\n",
    "    print((label_encoder.inverse_transform(y_preds) == y_test).mean())"
   ]
  }
 ],
 "metadata": {
  "kernelspec": {
   "display_name": "venv",
   "language": "python",
   "name": "python3"
  },
  "language_info": {
   "codemirror_mode": {
    "name": "ipython",
    "version": 3
   },
   "file_extension": ".py",
   "mimetype": "text/x-python",
   "name": "python",
   "nbconvert_exporter": "python",
   "pygments_lexer": "ipython3",
   "version": "3.10.7"
  },
  "orig_nbformat": 4,
  "vscode": {
   "interpreter": {
    "hash": "3ed32a56ba74fe8acea63c2c49b0d3aae89eef6122d4bc3469c1fe9d45fa2a08"
   }
  }
 },
 "nbformat": 4,
 "nbformat_minor": 2
}
